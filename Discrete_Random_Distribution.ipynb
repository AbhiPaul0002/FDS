{
  "nbformat": 4,
  "nbformat_minor": 0,
  "metadata": {
    "colab": {
      "name": "Discrete_Random_Distribution.ipynb",
      "provenance": [],
      "collapsed_sections": [],
      "authorship_tag": "ABX9TyPThzx9Lzd60gYLpReDwRwm",
      "include_colab_link": true
    },
    "kernelspec": {
      "name": "python3",
      "display_name": "Python 3"
    }
  },
  "cells": [
    {
      "cell_type": "markdown",
      "metadata": {
        "id": "view-in-github",
        "colab_type": "text"
      },
      "source": [
        "<a href=\"https://colab.research.google.com/github/gaurideokar03/Foundation_of_Data_Science/blob/main/Discrete_Random_Distribution.ipynb\" target=\"_parent\"><img src=\"https://colab.research.google.com/assets/colab-badge.svg\" alt=\"Open In Colab\"/></a>"
      ]
    },
    {
      "cell_type": "code",
      "metadata": {
        "id": "3bzFPtAwuO-d"
      },
      "source": [
        ""
      ],
      "execution_count": null,
      "outputs": []
    },
    {
      "cell_type": "markdown",
      "metadata": {
        "id": "D68sT92n8s5k"
      },
      "source": [
        "**Probability Distribution :**\r\n",
        "\r\n",
        "  ***Discrete Random Distributions***\r\n"
      ]
    },
    {
      "cell_type": "markdown",
      "metadata": {
        "id": "4FwksrCmuQ89"
      },
      "source": [
        "\r\n",
        "\r\n",
        "**A] Bernoulli Distribution**\r\n",
        "\r\n",
        "A Bernoulli distribution is a discrete probability distribution for a Bernoulli trial.\r\n",
        "\r\n",
        "  Conditions :\r\n",
        "  1. There must be only one trial.\r\n",
        "  2. There must be only two possible outcomes of the trial, one is called a     success, and the other is called failure.\r\n",
        "  3. P(Success) = p\r\n",
        "  4. P(Failure) = 1 — p = q\r\n",
        "  5. Conventionally, we assign the value of 1 to the event with probability p and a value of 0 to the event with probability 1 — p.\r\n",
        "  6. Conventionally, we have p>1 — p. Another way we can say that we take the probability of success(1) as p and probability of failure(0) as 1 — p so that P(Success)>P(Failure).\r\n",
        "  7. We must have the probability of one of the events (Success or Failure) or some past data that indicates experimental probability.\r\n"
      ]
    },
    {
      "cell_type": "code",
      "metadata": {
        "colab": {
          "base_uri": "https://localhost:8080/",
          "height": 450
        },
        "id": "UZcvglMGw2v6",
        "outputId": "2dbf722f-4dc3-404e-bae8-39e550a20dab"
      },
      "source": [
        "# Exmaple 1\r\n",
        "# There are only two candidates in an election: Patrick and Gary, and we can either vote for Patrick or Gary.\r\n",
        "# P(Success) = P(1) = Vote for Patrick = 0.7\r\n",
        "# P(Failure) = P(0) = Vote for Gary = 0.3\r\n",
        "\r\n",
        "from scipy.stats import bernoulli\r\n",
        "import matplotlib.pylab as plt\r\n",
        "import seaborn as sns\r\n",
        "\r\n",
        "data_bern = bernoulli.rvs(size=10000,p=0.7)\r\n",
        "ax = sns.distplot(data_bern,kde=False,color='red')\r\n",
        "plt.title(\"Bernoulli Distribution\")\r\n",
        "plt.xlabel(\"Data Points\")\r\n",
        "plt.ylabel(\"Probability\")\r\n",
        "plt.show()\r\n",
        "\r\n",
        "\r\n",
        "#find mean , variance , median , standard deviation\r\n",
        "\r\n",
        "p=0.7\r\n",
        "mean = bernoulli.mean(p)\r\n",
        "print(\"Mean :\" ,mean)\r\n",
        "\r\n",
        "median = bernoulli.median(p)\r\n",
        "print(\"Median :\" ,median)\r\n",
        "\r\n",
        "var = bernoulli.var(p)\r\n",
        "print(\"Variance :\" ,var)\r\n",
        "\r\n",
        "std = bernoulli.std(p)\r\n",
        "print(\"Standard Deviation :\" ,std)\r\n",
        "\r\n",
        "#Probability mass function and Cumulative density function for p=0.7\r\n",
        "\r\n",
        "x=[0,1]\r\n",
        "print(\"Probability Mass Function : \", bernoulli.pmf(x,p))\r\n",
        "print(\"Cumulative density function : \", bernoulli.cdf(x,p))\r\n"
      ],
      "execution_count": 7,
      "outputs": [
        {
          "output_type": "stream",
          "text": [
            "/usr/local/lib/python3.7/dist-packages/seaborn/distributions.py:2557: FutureWarning: `distplot` is a deprecated function and will be removed in a future version. Please adapt your code to use either `displot` (a figure-level function with similar flexibility) or `histplot` (an axes-level function for histograms).\n",
            "  warnings.warn(msg, FutureWarning)\n"
          ],
          "name": "stderr"
        },
        {
          "output_type": "display_data",
          "data": {
            "image/png": "[encoded data removed]",
            "text/plain": [
              "<Figure size 432x288 with 1 Axes>"
            ]
          },
          "metadata": {
            "tags": [],
            "needs_background": "light"
          }
        },
        {
          "output_type": "stream",
          "text": [
            "Mean : 0.7\n",
            "Median : 1.0\n",
            "Variance : 0.21000000000000002\n",
            "Standard Deviation : 0.45825756949558405\n",
            "Probability Mass Function :  [0.3 0.7]\n",
            "Cumulative density function :  [0.3 1. ]\n"
          ],
          "name": "stdout"
        }
      ]
    },
    {
      "cell_type": "code",
      "metadata": {
        "colab": {
          "base_uri": "https://localhost:8080/"
        },
        "id": "S57Vv2Lgzjq9",
        "outputId": "87a9cd47-3511-43de-ca97-5df7c6cf9939"
      },
      "source": [
        "# Generating the output for different Bernoulli experiments.\r\n",
        "\r\n",
        "p=0.7\r\n",
        "r = bernoulli.rvs(p,size=100)\r\n",
        "print(r)"
      ],
      "execution_count": 9,
      "outputs": [
        {
          "output_type": "stream",
          "text": [
            "[1 0 0 0 1 1 1 1 1 1 1 1 1 1 1 0 1 1 0 1 0 1 0 0 1 0 1 0 1 1 1 1 1 1 1 1 1\n",
            " 0 1 1 1 1 0 1 1 1 1 1 1 1 1 0 1 1 1 1 1 1 0 1 0 0 1 1 0 1 1 1 0 1 1 1 1 0\n",
            " 1 1 0 1 1 0 0 0 1 1 1 1 1 1 1 0 1 0 1 1 1 0 1 1 1 0]\n"
          ],
          "name": "stdout"
        }
      ]
    },
    {
      "cell_type": "code",
      "metadata": {
        "colab": {
          "base_uri": "https://localhost:8080/",
          "height": 298
        },
        "id": "Eyy_lwPixu2O",
        "outputId": "abe30ddd-6ace-4de5-ff26-02db3cb61905"
      },
      "source": [
        "# Example 2 : A simple example can be a single toss of a biased/unbiased coin. \r\n",
        "# probability of heads (success) is 0.6 while probability of tails (failure) is 0.4. \r\n",
        "\r\n",
        "import numpy as np\r\n",
        "import matplotlib.pyplot as plt\r\n",
        "\r\n",
        "probs = np.array([0.6, 0.4])\r\n",
        "face = [0, 1]\r\n",
        "plt.bar(face, probs)\r\n",
        "plt.title('Biased coin Bernoulli Distribution', fontsize=12)\r\n",
        "plt.ylabel('Probability', fontsize=12)\r\n",
        "plt.xlabel('Biased coin Outcome', fontsize=12)\r\n",
        "plt.show()\r\n",
        "\r\n"
      ],
      "execution_count": 17,
      "outputs": [
        {
          "output_type": "display_data",
          "data": {
            "image/png": "[encoded data removed]",
            "text/plain": [
              "<Figure size 432x288 with 1 Axes>"
            ]
          },
          "metadata": {
            "tags": [],
            "needs_background": "light"
          }
        }
      ]
    },
    {
      "cell_type": "markdown",
      "metadata": {
        "id": "J2MJOG8w2X5-"
      },
      "source": [
        "**B] Uniform Distribution**\r\n",
        "\r\n",
        "  It is used to describe probability where every event has equal chances of occuring.\r\n",
        "\r\n",
        "E.g. Generation of random numbers.\r\n",
        "\r\n",
        "It has three parameters:\r\n",
        "  1. a - lower bound - default 0 .0.\r\n",
        "\r\n",
        "  2. b - upper bound - default 1.0.\r\n",
        "\r\n",
        "  3. size - The shape of the returned array."
      ]
    },
    {
      "cell_type": "code",
      "metadata": {
        "colab": {
          "base_uri": "https://localhost:8080/"
        },
        "id": "XuIfKJPp06hz",
        "outputId": "b35147b3-548e-4241-92ee-8b4a5ef4104a"
      },
      "source": [
        "# Example 1 \r\n",
        "# Create a 2x3 uniform distribution sample:\r\n",
        "\r\n",
        "from numpy import random\r\n",
        "\r\n",
        "x = random.uniform(size=(2, 3))\r\n",
        "\r\n",
        "print(x)"
      ],
      "execution_count": 18,
      "outputs": [
        {
          "output_type": "stream",
          "text": [
            "[[0.43215172 0.2852805  0.83619378]\n",
            " [0.73480127 0.31727949 0.90283769]]\n"
          ],
          "name": "stdout"
        }
      ]
    },
    {
      "cell_type": "code",
      "metadata": {
        "colab": {
          "base_uri": "https://localhost:8080/",
          "height": 318
        },
        "id": "EFIhRUyo2_aU",
        "outputId": "83ac195e-cb9d-4c6f-9091-3a8e66ebf7aa"
      },
      "source": [
        "# Example 2 \r\n",
        "# Visualize Uniform Distribution with size 1000\r\n",
        "\r\n",
        "from numpy import random\r\n",
        "import matplotlib.pyplot as plt\r\n",
        "import seaborn as sns\r\n",
        "\r\n",
        "sns.distplot(random.uniform(size=1000), hist=False)\r\n",
        "\r\n",
        "plt.show()"
      ],
      "execution_count": 19,
      "outputs": [
        {
          "output_type": "stream",
          "text": [
            "/usr/local/lib/python3.7/dist-packages/seaborn/distributions.py:2557: FutureWarning: `distplot` is a deprecated function and will be removed in a future version. Please adapt your code to use either `displot` (a figure-level function with similar flexibility) or `kdeplot` (an axes-level function for kernel density plots).\n",
            "  warnings.warn(msg, FutureWarning)\n"
          ],
          "name": "stderr"
        },
        {
          "output_type": "display_data",
          "data": {
            "image/png": "[encoded data removed]",
            "text/plain": [
              "<Figure size 432x288 with 1 Axes>"
            ]
          },
          "metadata": {
            "tags": [],
            "needs_background": "light"
          }
        }
      ]
    },
    {
      "cell_type": "code",
      "metadata": {
        "colab": {
          "base_uri": "https://localhost:8080/"
        },
        "id": "8UtHEGIz4XCm",
        "outputId": "4a1ec5cd-4d41-4ebc-df08-ef400677e0e7"
      },
      "source": [
        "# Example 3\r\n",
        "#Generate Random Numbers From The Uniform Distribution using NumPy\r\n",
        "\r\n",
        "# Syntax :\r\n",
        "  # numpy.random.uniform(low = 0.0, high = 1.0, size = None)  \r\n",
        "\r\n",
        "import numpy as np \r\n",
        "r = np.random.uniform(size=4)  # generating random numbers by using only size\r\n",
        "print(r)"
      ],
      "execution_count": 20,
      "outputs": [
        {
          "output_type": "stream",
          "text": [
            "[0.21225906 0.80184696 0.94993339 0.35490764]\n"
          ],
          "name": "stdout"
        }
      ]
    },
    {
      "cell_type": "code",
      "metadata": {
        "colab": {
          "base_uri": "https://localhost:8080/"
        },
        "id": "cVtAkRz44uMo",
        "outputId": "bd746e79-762d-418e-ecbc-0ad471f11e97"
      },
      "source": [
        "# Example 4 \r\n",
        "\r\n",
        "import numpy as np   \r\n",
        "random_array = np.random.uniform(0.0, 1.0, 5)      # generating 1D array with random values \r\n",
        "print(\"1D Array with random values : \\n\", random_array)"
      ],
      "execution_count": 22,
      "outputs": [
        {
          "output_type": "stream",
          "text": [
            "1D Array with random values : \n",
            " [0.44561638 0.10805109 0.49931325 0.40062924 0.62017713]\n"
          ],
          "name": "stdout"
        }
      ]
    },
    {
      "cell_type": "markdown",
      "metadata": {
        "id": "Bi-w4aQ15V-J"
      },
      "source": [
        "**C] Binomial Distribution**\r\n",
        "  \r\n",
        "  Binomial Distribution is a Discrete Distribution.\r\n",
        "\r\n",
        "  It describes the outcome of binary scenarios, e.g. toss of a coin, it will either be head or tails.\r\n",
        "\r\n",
        "\r\n",
        "\r\n",
        "It has three parameters:\r\n",
        "\r\n",
        "  1. n - number of trials.\r\n",
        "\r\n",
        "  2. p - probability of occurence of each trial (e.g. for toss of a coin 0.5 each).\r\n",
        "\r\n",
        "  3. size - The shape of the returned array.\r\n",
        "\r\n",
        "e.g. The distribution is defined at separate set of events, e.g. a coin toss's result is discrete as it can be only head or tails whereas height of people is continuous as it can be 170, 170.1, 170.11 and so on."
      ]
    },
    {
      "cell_type": "code",
      "metadata": {
        "colab": {
          "base_uri": "https://localhost:8080/"
        },
        "id": "WUF4A06m5uhk",
        "outputId": "6bc084c6-a432-4c51-db11-32430abb1492"
      },
      "source": [
        "# Exmaple 1 \r\n",
        "# Given 10 trials for coin toss generate 10 data points:\r\n",
        "\r\n",
        "from numpy import random\r\n",
        "x = random.binomial(n=10, p=0.5, size=10)\r\n",
        "print(x)"
      ],
      "execution_count": 23,
      "outputs": [
        {
          "output_type": "stream",
          "text": [
            "[6 4 6 3 2 3 9 4 5 6]\n"
          ],
          "name": "stdout"
        }
      ]
    },
    {
      "cell_type": "code",
      "metadata": {
        "colab": {
          "base_uri": "https://localhost:8080/",
          "height": 318
        },
        "id": "2lVpaIIX9tuj",
        "outputId": "9ec96510-5123-4e31-ce55-73ea2159bf3e"
      },
      "source": [
        "# Visualize Binomial Distribution\r\n",
        "\r\n",
        "from numpy import random\r\n",
        "import matplotlib.pyplot as plt\r\n",
        "import seaborn as sns\r\n",
        "\r\n",
        "sns.distplot(random.binomial(n=10, p=0.5, size=1000), hist=True, kde=False)\r\n",
        "\r\n",
        "plt.show()"
      ],
      "execution_count": 30,
      "outputs": [
        {
          "output_type": "stream",
          "text": [
            "/usr/local/lib/python3.7/dist-packages/seaborn/distributions.py:2557: FutureWarning: `distplot` is a deprecated function and will be removed in a future version. Please adapt your code to use either `displot` (a figure-level function with similar flexibility) or `histplot` (an axes-level function for histograms).\n",
            "  warnings.warn(msg, FutureWarning)\n"
          ],
          "name": "stderr"
        },
        {
          "output_type": "display_data",
          "data": {
            "image/png": "[encoded data removed]",
            "text/plain": [
              "<Figure size 432x288 with 1 Axes>"
            ]
          },
          "metadata": {
            "tags": [],
            "needs_background": "light"
          }
        }
      ]
    },
    {
      "cell_type": "code",
      "metadata": {
        "colab": {
          "base_uri": "https://localhost:8080/",
          "height": 352
        },
        "id": "9auhm7vk9-p9",
        "outputId": "03b8a490-84ee-4e2a-8d8f-3982aa383eb7"
      },
      "source": [
        "# Example 2 : Difference Between Normal and Binomial Distribution\r\n",
        "\r\n",
        "# The main difference is that normal distribution is continous whereas binomial is discrete, but if there are enough data \r\n",
        "# points it will be quite similar to normal distribution with certain loc and scale.\r\n",
        "\r\n",
        "from numpy import random\r\n",
        "import matplotlib.pyplot as plt\r\n",
        "import seaborn as sns\r\n",
        "\r\n",
        "sns.distplot(random.normal(loc=50, scale=5, size=1000), hist=False, label='normal')\r\n",
        "sns.distplot(random.binomial(n=100, p=0.5, size=1000), hist=False, label='binomial')\r\n",
        "plt.legend()\r\n",
        "plt.show()"
      ],
      "execution_count": 33,
      "outputs": [
        {
          "output_type": "stream",
          "text": [
            "/usr/local/lib/python3.7/dist-packages/seaborn/distributions.py:2557: FutureWarning: `distplot` is a deprecated function and will be removed in a future version. Please adapt your code to use either `displot` (a figure-level function with similar flexibility) or `kdeplot` (an axes-level function for kernel density plots).\n",
            "  warnings.warn(msg, FutureWarning)\n",
            "/usr/local/lib/python3.7/dist-packages/seaborn/distributions.py:2557: FutureWarning: `distplot` is a deprecated function and will be removed in a future version. Please adapt your code to use either `displot` (a figure-level function with similar flexibility) or `kdeplot` (an axes-level function for kernel density plots).\n",
            "  warnings.warn(msg, FutureWarning)\n"
          ],
          "name": "stderr"
        },
        {
          "output_type": "display_data",
          "data": {
            "image/png": "[encoded data removed]",
            "text/plain": [
              "<Figure size 432x288 with 1 Axes>"
            ]
          },
          "metadata": {
            "tags": [],
            "needs_background": "light"
          }
        }
      ]
    }
  ]
}