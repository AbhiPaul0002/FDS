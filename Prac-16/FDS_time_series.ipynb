{
  "nbformat": 4,
  "nbformat_minor": 0,
  "metadata": {
    "colab": {
      "name": " FDS_time_series.ipynb",
      "provenance": [],
      "collapsed_sections": [],
      "include_colab_link": true
    },
    "kernelspec": {
      "name": "python3",
      "display_name": "Python 3"
    }
  },
  "cells": [
    {
      "cell_type": "markdown",
      "metadata": {
        "id": "view-in-github",
        "colab_type": "text"
      },
      "source": [
        "<a href=\"https://colab.research.google.com/github/simrran-sharma/MSC-IT-PART1-SEM1/blob/main/FDS/FDS_time_series.ipynb\" target=\"_parent\"><img src=\"https://colab.research.google.com/assets/colab-badge.svg\" alt=\"Open In Colab\"/></a>"
      ]
    },
    {
      "cell_type": "markdown",
      "metadata": {
        "id": "JcUdixS9R-rV"
      },
      "source": [
        "** Time Series Analysis**"
      ]
    },
    {
      "cell_type": "markdown",
      "metadata": {
        "id": "YfhW5FGWTpiw"
      },
      "source": [
        "Pandas was developed in the context of financial modeling, so as you might expect, it contains a fairly extensive set of tools for working with dates, times, and time-indexed data. Date and time data comes in a few flavors, which we will discuss here:\r\n",
        "\r\n",
        "* Time stamps reference particular moments in time (e.g., July 4th, 2015 at 7:00am).\r\n",
        "* Time intervals and periods reference a length of time between a particular beginning and end point; for example, the year 2015. Periods usually reference a special case of time intervals in which each interval is of uniform length and does not overlap (e.g., 24 hour-long periods comprising days).\r\n",
        "* Time deltas or durations reference an exact length of time (e.g., a duration of 22.56 seconds).\r\n",
        "\r\n",
        "In this section, we will introduce how to work with each of these types of date/time data in Pandas. This short section is by no means a complete guide to the time series tools available in Python or Pandas, but instead is intended as a broad overview of how you as a user should approach working with time series. We will start with a brief discussion of tools for dealing with dates and times in Python, before moving more specifically to a discussion of the tools provided by Pandas. After listing some resources that go into more depth, we will review some short examples of working with time series data in Pandas."
      ]
    },
    {
      "cell_type": "markdown",
      "metadata": {
        "id": "Hmxa2gFvUp2R"
      },
      "source": [
        "## Dates and Times in Python\r\n",
        "\r\n",
        "The Python world has a number of available representations of dates, times, deltas, and timespans.\r\n",
        "While the time series tools provided by Pandas tend to be the most useful for data science applications, it is helpful to see their relationship to other packages used in Python."
      ]
    },
    {
      "cell_type": "markdown",
      "metadata": {
        "id": "_6LCd_U4V6oK"
      },
      "source": [
        "### Native Python dates and times: ``datetime`` and ``dateutil``\r\n",
        "\r\n",
        "Python's basic objects for working with dates and times reside in the built-in ``datetime`` module.\r\n",
        "Along with the third-party ``dateutil`` module, you can use it to quickly perform a host of useful functionalities on dates and times.\r\n",
        "For example, you can manually build a date using the ``datetime`` type:"
      ]
    },
    {
      "cell_type": "code",
      "metadata": {
        "colab": {
          "base_uri": "https://localhost:8080/"
        },
        "id": "TBsTZn8uVmbN",
        "outputId": "36a1c1ec-0fcd-44c5-a8da-8c1aa9341828"
      },
      "source": [
        "from datetime import datetime\r\n",
        "datetime(year=2015, month=7, day=4)"
      ],
      "execution_count": null,
      "outputs": [
        {
          "output_type": "execute_result",
          "data": {
            "text/plain": [
              "datetime.datetime(2015, 7, 4, 0, 0)"
            ]
          },
          "metadata": {
            "tags": []
          },
          "execution_count": 1
        }
      ]
    },
    {
      "cell_type": "code",
      "metadata": {
        "colab": {
          "base_uri": "https://localhost:8080/"
        },
        "id": "uYlMoeTKRvKK",
        "outputId": "1545bbe8-707f-49f2-b2e4-db5f4ae12dcd"
      },
      "source": [
        "from dateutil import parser\r\n",
        "date = parser.parse(\"4th of July, 2015\")\r\n",
        "date"
      ],
      "execution_count": null,
      "outputs": [
        {
          "output_type": "execute_result",
          "data": {
            "text/plain": [
              "datetime.datetime(2015, 7, 4, 0, 0)"
            ]
          },
          "metadata": {
            "tags": []
          },
          "execution_count": 2
        }
      ]
    },
    {
      "cell_type": "code",
      "metadata": {
        "colab": {
          "base_uri": "https://localhost:8080/",
          "height": 35
        },
        "id": "8VdXBWAcXNi5",
        "outputId": "0cb548e4-19bb-40e5-b0ec-5ab11346c179"
      },
      "source": [
        "date.strftime('%A')"
      ],
      "execution_count": null,
      "outputs": [
        {
          "output_type": "execute_result",
          "data": {
            "application/vnd.google.colaboratory.intrinsic+json": {
              "type": "string"
            },
            "text/plain": [
              "'Saturday'"
            ]
          },
          "metadata": {
            "tags": []
          },
          "execution_count": 3
        }
      ]
    },
    {
      "cell_type": "markdown",
      "metadata": {
        "id": "qH4WUFUKXzTI"
      },
      "source": [
        "In the final line, we've used one of the standard string format codes for printing dates (``\"%A\"``), which you can read about in the [strftime section](https://docs.python.org/3/library/datetime.html#strftime-and-strptime-behavior) of Python's [datetime documentation](https://docs.python.org/3/library/datetime.html).\r\n",
        "Documentation of other useful date utilities can be found in [dateutil's online documentation](http://labix.org/python-dateutil).\r\n",
        "A related package to be aware of is [``pytz``](http://pytz.sourceforge.net/), which contains tools for working with the most migrane-inducing piece of time series data: time zones.\r\n",
        "\r\n",
        "The power of ``datetime`` and ``dateutil`` lie in their flexibility and easy syntax: you can use these objects and their built-in methods to easily perform nearly any operation you might be interested in.\r\n",
        "Where they break down is when you wish to work with large arrays of dates and times:\r\n",
        "just as lists of Python numerical variables are suboptimal compared to NumPy-style typed numerical arrays, lists of Python datetime objects are suboptimal compared to typed arrays of encoded dates."
      ]
    },
    {
      "cell_type": "code",
      "metadata": {
        "colab": {
          "base_uri": "https://localhost:8080/"
        },
        "id": "khQi_3zlXyFR",
        "outputId": "8474ef2d-e900-4c18-890c-250e5a6b51ba"
      },
      "source": [
        "import numpy as np\r\n",
        "np.datetime64('2015-07-04')"
      ],
      "execution_count": null,
      "outputs": [
        {
          "output_type": "execute_result",
          "data": {
            "text/plain": [
              "numpy.datetime64('2015-07-04')"
            ]
          },
          "metadata": {
            "tags": []
          },
          "execution_count": 5
        }
      ]
    },
    {
      "cell_type": "markdown",
      "metadata": {
        "id": "iz34teWRbUN5"
      },
      "source": [
        "Here is a minute-based datetime:"
      ]
    },
    {
      "cell_type": "code",
      "metadata": {
        "colab": {
          "base_uri": "https://localhost:8080/"
        },
        "id": "8KyIBqB6bHmh",
        "outputId": "865b9998-83e9-4089-87f8-741f7fa965e2"
      },
      "source": [
        "np.datetime64('2015-07-04 12:00')"
      ],
      "execution_count": null,
      "outputs": [
        {
          "output_type": "execute_result",
          "data": {
            "text/plain": [
              "numpy.datetime64('2015-07-04T12:00')"
            ]
          },
          "metadata": {
            "tags": []
          },
          "execution_count": 6
        }
      ]
    },
    {
      "cell_type": "markdown",
      "metadata": {
        "id": "ITRrAOvsbc5F"
      },
      "source": [
        "Notice that the time zone is automatically set to the local time on the computer executing the code.\r\n",
        "You can force any desired fundamental unit using one of many format codes; for example, here we'll force a nanosecond-based time:"
      ]
    },
    {
      "cell_type": "code",
      "metadata": {
        "colab": {
          "base_uri": "https://localhost:8080/"
        },
        "id": "ZjKmWLeGbiRd",
        "outputId": "e82f9d64-945f-407e-876a-715090ed75fa"
      },
      "source": [
        "np.datetime64('2015-07-04 12:59:59.50', 'ns')"
      ],
      "execution_count": null,
      "outputs": [
        {
          "output_type": "execute_result",
          "data": {
            "text/plain": [
              "numpy.datetime64('2015-07-04T12:59:59.500000000')"
            ]
          },
          "metadata": {
            "tags": []
          },
          "execution_count": 7
        }
      ]
    },
    {
      "cell_type": "markdown",
      "metadata": {
        "id": "1kGFY7fLby-9"
      },
      "source": [
        "The following table, drawn from the NumPy datetime64 documentation, lists the available format codes along with the relative and absolute timespans that they can encode:"
      ]
    },
    {
      "cell_type": "markdown",
      "metadata": {
        "id": "3oQkoinNb5p7"
      },
      "source": [
        "|Code    | Meaning     | Time span (relative) | Time span (absolute)   |\r\n",
        "|--------|-------------|----------------------|------------------------|\r\n",
        "| ``Y``  | Year\t       | ± 9.2e18 years       | [9.2e18 BC, 9.2e18 AD] |\r\n",
        "| ``M``  | Month       | ± 7.6e17 years       | [7.6e17 BC, 7.6e17 AD] |\r\n",
        "| ``W``  | Week\t       | ± 1.7e17 years       | [1.7e17 BC, 1.7e17 AD] |\r\n",
        "| ``D``  | Day         | ± 2.5e16 years       | [2.5e16 BC, 2.5e16 AD] |\r\n",
        "| ``h``  | Hour        | ± 1.0e15 years       | [1.0e15 BC, 1.0e15 AD] |\r\n",
        "| ``m``  | Minute      | ± 1.7e13 years       | [1.7e13 BC, 1.7e13 AD] |\r\n",
        "| ``s``  | Second      | ± 2.9e12 years       | [ 2.9e9 BC, 2.9e9 AD]  |\r\n",
        "| ``ms`` | Millisecond | ± 2.9e9 years        | [ 2.9e6 BC, 2.9e6 AD]  |\r\n",
        "| ``us`` | Microsecond | ± 2.9e6 years        | [290301 BC, 294241 AD] |\r\n",
        "| ``ns`` | Nanosecond  | ± 292 years          | [ 1678 AD, 2262 AD]    |\r\n",
        "| ``ps`` | Picosecond  | ± 106 days           | [ 1969 AD, 1970 AD]    |\r\n",
        "| ``fs`` | Femtosecond | ± 2.6 hours          | [ 1969 AD, 1970 AD]    |\r\n",
        "| ``as`` | Attosecond  | ± 9.2 seconds        | [ 1969 AD, 1970 AD]    |"
      ]
    },
    {
      "cell_type": "markdown",
      "metadata": {
        "id": "S4PE8VwycRmo"
      },
      "source": [
        "For the types of data we see in the real world, a useful default is ``datetime64[ns]``, as it can encode a useful range of modern dates with a suitably fine precision.\r\n",
        "\r\n",
        "Finally, we will note that while the ``datetime64`` data type addresses some of the deficiencies of the built-in Python ``datetime`` type, it lacks many of the convenient methods and functions provided by ``datetime`` and especially ``dateutil``.\r\n",
        "More information can be found in [NumPy's datetime64 documentation](http://docs.scipy.org/doc/numpy/reference/arrays.datetime.html)."
      ]
    },
    {
      "cell_type": "markdown",
      "metadata": {
        "id": "TGo6indpeYdX"
      },
      "source": [
        "### Dates and times in pandas: best of both worlds\r\n",
        "\r\n",
        "Pandas builds upon all the tools just discussed to provide a ``Timestamp`` object, which combines the ease-of-use of ``datetime`` and ``dateutil`` with the efficient storage and vectorized interface of ``numpy.datetime64``.\r\n",
        "From a group of these ``Timestamp`` objects, Pandas can construct a ``DatetimeIndex`` that can be used to index data in a ``Series`` or ``DataFrame``; we'll see many examples of this below.\r\n",
        "\r\n",
        "For example, we can use Pandas tools to repeat the demonstration from above.\r\n",
        "We can parse a flexibly formatted string date, and use format codes to output the day of the week:"
      ]
    },
    {
      "cell_type": "markdown",
      "metadata": {
        "id": "k-H65tSkeePy"
      },
      "source": [
        "## Pandas Time Series: Indexing by Time\r\n",
        "\r\n",
        "Where the Pandas time series tools really become useful is when you begin to *index data by timestamps*.\r\n",
        "For example, we can construct a ``Series`` object that has time indexed data:"
      ]
    },
    {
      "cell_type": "code",
      "metadata": {
        "colab": {
          "base_uri": "https://localhost:8080/"
        },
        "id": "27mabVU6ehye",
        "outputId": "122bf954-57b7-4a66-d026-1958c337f43a"
      },
      "source": [
        "import pandas as pd        \r\n",
        "index = pd.DatetimeIndex(['2014-07-04', '2014-08-04',\r\n",
        "                          '2015-07-04', '2015-08-04'])\r\n",
        "data = pd.Series([0, 1, 2, 3], index=index)\r\n",
        "data"
      ],
      "execution_count": null,
      "outputs": [
        {
          "output_type": "execute_result",
          "data": {
            "text/plain": [
              "2014-07-04    0\n",
              "2014-08-04    1\n",
              "2015-07-04    2\n",
              "2015-08-04    3\n",
              "dtype: int64"
            ]
          },
          "metadata": {
            "tags": []
          },
          "execution_count": 9
        }
      ]
    },
    {
      "cell_type": "code",
      "metadata": {
        "colab": {
          "base_uri": "https://localhost:8080/"
        },
        "id": "sAMOERF4fazk",
        "outputId": "b6827c59-0bd3-4c5b-893c-42a113dbcdca"
      },
      "source": [
        "data['2014-07-04':'2015-07-04']"
      ],
      "execution_count": null,
      "outputs": [
        {
          "output_type": "execute_result",
          "data": {
            "text/plain": [
              "2014-07-04    0\n",
              "2014-08-04    1\n",
              "2015-07-04    2\n",
              "dtype: int64"
            ]
          },
          "metadata": {
            "tags": []
          },
          "execution_count": 13
        }
      ]
    },
    {
      "cell_type": "markdown",
      "metadata": {
        "id": "_rAjTUdqgCZm"
      },
      "source": [
        "# There are additional special date-only indexing operations, such as passing a year to obtain a slice of all data from that year:"
      ]
    },
    {
      "cell_type": "code",
      "metadata": {
        "colab": {
          "base_uri": "https://localhost:8080/"
        },
        "id": "Q4oJfR7RgLXt",
        "outputId": "0fc3f1a7-4213-420f-c7b3-fe31443c3007"
      },
      "source": [
        "data['2015']"
      ],
      "execution_count": null,
      "outputs": [
        {
          "output_type": "execute_result",
          "data": {
            "text/plain": [
              "2015-07-04    2\n",
              "2015-08-04    3\n",
              "dtype: int64"
            ]
          },
          "metadata": {
            "tags": []
          },
          "execution_count": 14
        }
      ]
    },
    {
      "cell_type": "markdown",
      "metadata": {
        "id": "8wCPRnhmgb5b"
      },
      "source": [
        "Later, we will see additional examples of the convenience of dates-as-indices. But first, a closer look at the available time series data structures."
      ]
    },
    {
      "cell_type": "markdown",
      "metadata": {
        "id": "n1GQ_fWlgbtV"
      },
      "source": [
        "## Pandas Time Series Data Structures\r\n",
        "\r\n",
        "This section will introduce the fundamental Pandas data structures for working with time series data:\r\n",
        "\r\n",
        "- For *time stamps*, Pandas provides the ``Timestamp`` type. As mentioned before, it is essentially a replacement for Python's native ``datetime``, but is based on the more efficient ``numpy.datetime64`` data type. The associated Index structure is ``DatetimeIndex``.\r\n",
        "- For *time Periods*, Pandas provides the ``Period`` type. This encodes a fixed-frequency interval based on ``numpy.datetime64``. The associated index structure is ``PeriodIndex``.\r\n",
        "- For *time deltas* or *durations*, Pandas provides the ``Timedelta`` type. ``Timedelta`` is a more efficient replacement for Python's native ``datetime.timedelta`` type, and is based on ``numpy.timedelta64``. The associated index structure is ``TimedeltaIndex``."
      ]
    },
    {
      "cell_type": "markdown",
      "metadata": {
        "id": "uX96CLwDguGU"
      },
      "source": [
        "The most fundamental of these date/time objects are the \r\n",
        "\r\n",
        "---\r\n",
        "\r\n",
        "``Timestamp`` and ``DatetimeIndex`` objects.\r\n",
        "While these class objects can be invoked directly, it is more common to use the ``pd.to_datetime()`` function, which can parse a wide variety of formats.\r\n",
        "Passing a single date to ``pd.to_datetime()`` yields a ``Timestamp``; passing a series of dates by default yields a ``DatetimeIndex``:"
      ]
    },
    {
      "cell_type": "code",
      "metadata": {
        "colab": {
          "base_uri": "https://localhost:8080/"
        },
        "id": "52aRNTyjg4HR",
        "outputId": "260968d1-53a4-48cc-eb09-1b11a5822d96"
      },
      "source": [
        "dates = pd.to_datetime([datetime(2015, 7, 3), '4th of July, 2015',\r\n",
        "                       '2015-Jul-6', '07-07-2015', '20150708'])\r\n",
        "dates"
      ],
      "execution_count": null,
      "outputs": [
        {
          "output_type": "execute_result",
          "data": {
            "text/plain": [
              "DatetimeIndex(['2015-07-03', '2015-07-04', '2015-07-06', '2015-07-07',\n",
              "               '2015-07-08'],\n",
              "              dtype='datetime64[ns]', freq=None)"
            ]
          },
          "metadata": {
            "tags": []
          },
          "execution_count": 15
        }
      ]
    },
    {
      "cell_type": "markdown",
      "metadata": {
        "id": "EwEQ2-TDg3Xx"
      },
      "source": [
        "Any ``DatetimeIndex`` can be converted to a ``PeriodIndex`` with the ``to_period()`` function with the addition of a frequency code; here we'll use ``'D'`` to indicate daily frequency:"
      ]
    },
    {
      "cell_type": "code",
      "metadata": {
        "colab": {
          "base_uri": "https://localhost:8080/"
        },
        "id": "gxRLyEWahID4",
        "outputId": "1fb2d49d-7ca0-4e0f-b480-b5d5cc60f0a6"
      },
      "source": [
        "dates.to_period('D')"
      ],
      "execution_count": null,
      "outputs": [
        {
          "output_type": "execute_result",
          "data": {
            "text/plain": [
              "PeriodIndex(['2015-07-03', '2015-07-04', '2015-07-06', '2015-07-07',\n",
              "             '2015-07-08'],\n",
              "            dtype='period[D]', freq='D')"
            ]
          },
          "metadata": {
            "tags": []
          },
          "execution_count": 17
        }
      ]
    },
    {
      "cell_type": "markdown",
      "metadata": {
        "id": "gZB67uSpqtUe"
      },
      "source": [
        "Later, we will see additional examples of the convenience of dates-as-indices. But first, a closer look at the available time series data structures."
      ]
    },
    {
      "cell_type": "markdown",
      "metadata": {
        "id": "r2t9elFOq24C"
      },
      "source": [
        "## Pandas Time Series Data Structures\r\n",
        "\r\n",
        "This section will introduce the fundamental Pandas data structures for working with time series data:\r\n",
        "\r\n",
        "- For *time stamps*, Pandas provides the ``Timestamp`` type. As mentioned before, it is essentially a replacement for Python's native ``datetime``, but is based on the more efficient ``numpy.datetime64`` data type. The associated Index structure is ``DatetimeIndex``.\r\n",
        "- For *time Periods*, Pandas provides the ``Period`` type. This encodes a fixed-frequency interval based on ``numpy.datetime64``. The associated index structure is ``PeriodIndex``.\r\n",
        "- For *time deltas* or *durations*, Pandas provides the ``Timedelta`` type. ``Timedelta`` is a more efficient replacement for Python's native ``datetime.timedelta`` type, and is based on ``numpy.timedelta64``. The associated index structure is ``TimedeltaIndex``."
      ]
    },
    {
      "cell_type": "markdown",
      "metadata": {
        "id": "B0rney4FrB_z"
      },
      "source": [
        "The most fundamental of these date/time objects are the ``Timestamp`` and ``DatetimeIndex`` objects.\r\n",
        "While these class objects can be invoked directly, it is more common to use the ``pd.to_datetime()`` function, which can parse a wide variety of formats.\r\n",
        "Passing a single date to ``pd.to_datetime()`` yields a ``Timestamp``; passing a series of dates by default yields a ``DatetimeIndex``:"
      ]
    },
    {
      "cell_type": "code",
      "metadata": {
        "colab": {
          "base_uri": "https://localhost:8080/"
        },
        "id": "XxHvOrKXrLpz",
        "outputId": "38101478-fc66-4a89-eda2-bf266174b6c0"
      },
      "source": [
        "dates = pd.to_datetime([datetime(2015, 7, 3), '4th of July, 2015',\r\n",
        "                       '2015-Jul-6', '07-07-2015', '20150708'])\r\n",
        "dates"
      ],
      "execution_count": null,
      "outputs": [
        {
          "output_type": "execute_result",
          "data": {
            "text/plain": [
              "DatetimeIndex(['2015-07-03', '2015-07-04', '2015-07-06', '2015-07-07',\n",
              "               '2015-07-08'],\n",
              "              dtype='datetime64[ns]', freq=None)"
            ]
          },
          "metadata": {
            "tags": []
          },
          "execution_count": 18
        }
      ]
    },
    {
      "cell_type": "markdown",
      "metadata": {
        "id": "PaGwEhKIrRvO"
      },
      "source": [
        "Any ``DatetimeIndex`` can be converted to a ``PeriodIndex`` with the ``to_period()`` function with the addition of a frequency code; here we'll use ``'D'`` to indicate daily frequency:Any ``DatetimeIndex`` can be converted to a ``PeriodIndex`` with the ``to_period()`` function with the addition of a frequency code; here we'll use ``'D'`` to indicate daily frequency:"
      ]
    },
    {
      "cell_type": "code",
      "metadata": {
        "colab": {
          "base_uri": "https://localhost:8080/"
        },
        "id": "8MtXKXEFrXJ8",
        "outputId": "fcfa5766-0460-49e0-dc62-076962841571"
      },
      "source": [
        "dates.to_period('D')"
      ],
      "execution_count": null,
      "outputs": [
        {
          "output_type": "execute_result",
          "data": {
            "text/plain": [
              "PeriodIndex(['2015-07-03', '2015-07-04', '2015-07-06', '2015-07-07',\n",
              "             '2015-07-08'],\n",
              "            dtype='period[D]', freq='D')"
            ]
          },
          "metadata": {
            "tags": []
          },
          "execution_count": 19
        }
      ]
    },
    {
      "cell_type": "markdown",
      "metadata": {
        "id": "1gsDhrCzrjJB"
      },
      "source": [
        "### Regular sequences: ``pd.date_range()``\r\n",
        "\r\n",
        "To make the creation of regular date sequences more convenient, Pandas offers a few functions for this purpose: ``pd.date_range()`` for timestamps, ``pd.period_range()`` for periods, and ``pd.timedelta_range()`` for time deltas.\r\n",
        "We've seen that Python's ``range()`` and NumPy's ``np.arange()`` turn a startpoint, endpoint, and optional stepsize into a sequence.\r\n",
        "Similarly, ``pd.date_range()`` accepts a start date, an end date, and an optional frequency code to create a regular sequence of dates.\r\n",
        "By default, the frequency is one day:"
      ]
    },
    {
      "cell_type": "markdown",
      "metadata": {
        "id": "aZqYrpYWrzhX"
      },
      "source": [
        "## Frequencies and Offsets\r\n",
        "\r\n",
        "Fundamental to these Pandas time series tools is the concept of a frequency or date offset.\r\n",
        "Just as we saw the ``D`` (day) and ``H`` (hour) codes above, we can use such codes to specify any desired frequency spacing.\r\n",
        "The following table summarizes the main codes available:"
      ]
    },
    {
      "cell_type": "markdown",
      "metadata": {
        "id": "mtO1J1kZr569"
      },
      "source": [
        "| Code   | Description         | Code   | Description          |\r\n",
        "|--------|---------------------|--------|----------------------|\r\n",
        "| ``D``  | Calendar day        | ``B``  | Business day         |\r\n",
        "| ``W``  | Weekly              |        |                      |\r\n",
        "| ``M``  | Month end           | ``BM`` | Business month end   |\r\n",
        "| ``Q``  | Quarter end         | ``BQ`` | Business quarter end |\r\n",
        "| ``A``  | Year end            | ``BA`` | Business year end    |\r\n",
        "| ``H``  | Hours               | ``BH`` | Business hours       |\r\n",
        "| ``T``  | Minutes             |        |                      |\r\n",
        "| ``S``  | Seconds             |        |                      |\r\n",
        "| ``L``  | Milliseonds         |        |                      |\r\n",
        "| ``U``  | Microseconds        |        |                      |\r\n",
        "| ``N``  | nanoseconds         |        |                      |"
      ]
    },
    {
      "cell_type": "markdown",
      "metadata": {
        "id": "qSIizCmwsBaG"
      },
      "source": [
        "The monthly, quarterly, and annual frequencies are all marked at the end of the specified period.\r\n",
        "By adding an ``S`` suffix to any of these, they instead will be marked at the beginning:"
      ]
    },
    {
      "cell_type": "markdown",
      "metadata": {
        "id": "VjvH5dIBsGv1"
      },
      "source": [
        "| Code    | Description            || Code    | Description            |\r\n",
        "|---------|------------------------||---------|------------------------|\r\n",
        "| ``MS``  | Month start            ||``BMS``  | Business month start   |\r\n",
        "| ``QS``  | Quarter start          ||``BQS``  | Business quarter start |\r\n",
        "| ``AS``  | Year start             ||``BAS``  | Business year start    |"
      ]
    },
    {
      "cell_type": "markdown",
      "metadata": {
        "id": "N8pFBlF6sLek"
      },
      "source": [
        "Additionally, you can change the month used to mark any quarterly or annual code by adding a three-letter month code as a suffix:\r\n",
        "\r\n",
        "- ``Q-JAN``, ``BQ-FEB``, ``QS-MAR``, ``BQS-APR``, etc.\r\n",
        "- ``A-JAN``, ``BA-FEB``, ``AS-MAR``, ``BAS-APR``, etc.\r\n",
        "\r\n",
        "In the same way, the split-point of the weekly frequency can be modified by adding a three-letter weekday code:\r\n",
        "\r\n",
        "- ``W-SUN``, ``W-MON``, ``W-TUE``, ``W-WED``, etc.\r\n",
        "\r\n",
        "On top of this, codes can be combined with numbers to specify other frequencies.\r\n",
        "For example, for a frequency of 2 hours 30 minutes, we can combine the hour (``H``) and minute (``T``) codes as follows:"
      ]
    },
    {
      "cell_type": "code",
      "metadata": {
        "colab": {
          "base_uri": "https://localhost:8080/"
        },
        "id": "zPsWZgedsQY4",
        "outputId": "cc99ac60-0154-483a-a8bc-9b62eed7f8d8"
      },
      "source": [
        "pd.timedelta_range(0, periods=9, freq=\"2H30T\")"
      ],
      "execution_count": null,
      "outputs": [
        {
          "output_type": "execute_result",
          "data": {
            "text/plain": [
              "TimedeltaIndex(['0 days 00:00:00', '0 days 02:30:00', '0 days 05:00:00',\n",
              "                '0 days 07:30:00', '0 days 10:00:00', '0 days 12:30:00',\n",
              "                '0 days 15:00:00', '0 days 17:30:00', '0 days 20:00:00'],\n",
              "               dtype='timedelta64[ns]', freq='150T')"
            ]
          },
          "metadata": {
            "tags": []
          },
          "execution_count": 20
        }
      ]
    },
    {
      "cell_type": "markdown",
      "metadata": {
        "id": "SKO5AwzYt5om"
      },
      "source": [
        "All of these short codes refer to specific instances of Pandas time series offsets, which can be found in the ``pd.tseries.offsets`` module.\r\n",
        "For example, we can create a business day offset directly as follows:"
      ]
    },
    {
      "cell_type": "code",
      "metadata": {
        "colab": {
          "base_uri": "https://localhost:8080/"
        },
        "id": "q-nX56AO0Iy0",
        "outputId": "9cd97ea5-de3d-4ee7-d3ae-ee5852e09b15"
      },
      "source": [
        "import pandas as pd \r\n",
        "\r\n",
        "from pandas.tseries.offsets import BDay\r\n",
        "pd.date_range('2015-07-01', periods=5, freq=BDay())"
      ],
      "execution_count": null,
      "outputs": [
        {
          "output_type": "execute_result",
          "data": {
            "text/plain": [
              "DatetimeIndex(['2015-07-01', '2015-07-02', '2015-07-03', '2015-07-06',\n",
              "               '2015-07-07'],\n",
              "              dtype='datetime64[ns]', freq='B')"
            ]
          },
          "metadata": {
            "tags": []
          },
          "execution_count": 4
        }
      ]
    },
    {
      "cell_type": "markdown",
      "metadata": {
        "id": "kQ2bdYFH0yO6"
      },
      "source": [
        "## Resampling, Shifting, and Windowing\r\n",
        "\r\n",
        "The ability to use dates and times as indices to intuitively organize and access data is an important piece of the Pandas time series tools.\r\n",
        "The benefits of indexed data in general (automatic alignment during operations, intuitive data slicing and access, etc.) still apply, and Pandas provides several additional time series-specific operations.\r\n",
        "\r\n",
        "We will take a look at a few of those here, using some stock price data as an example.\r\n",
        "Because Pandas was developed largely in a finance context, it includes some very specific tools for financial data.\r\n",
        "For example, the accompanying ``pandas-datareader`` package (installable via ``conda install pandas-datareader``), knows how to import financial data from a number of available sources, including Yahoo finance, Google Finance, and others.\r\n",
        "Here we will load Google's closing price history:"
      ]
    },
    {
      "cell_type": "code",
      "metadata": {
        "colab": {
          "base_uri": "https://localhost:8080/",
          "height": 234
        },
        "id": "kW_S1osh06yU",
        "outputId": "2d062091-9441-43b5-fbc5-d038d8cf6f08"
      },
      "source": [
        "from pandas_datareader import data\r\n",
        "\r\n",
        "goog = data.DataReader('GOOG', start='2004', end='2016',\r\n",
        "                       data_source='yahoo')\r\n",
        "goog.head()"
      ],
      "execution_count": null,
      "outputs": [
        {
          "output_type": "execute_result",
          "data": {
            "text/html": [
              "<div>\n",
              "<style scoped>\n",
              "    .dataframe tbody tr th:only-of-type {\n",
              "        vertical-align: middle;\n",
              "    }\n",
              "\n",
              "    .dataframe tbody tr th {\n",
              "        vertical-align: top;\n",
              "    }\n",
              "\n",
              "    .dataframe thead th {\n",
              "        text-align: right;\n",
              "    }\n",
              "</style>\n",
              "<table border=\"1\" class=\"dataframe\">\n",
              "  <thead>\n",
              "    <tr style=\"text-align: right;\">\n",
              "      <th></th>\n",
              "      <th>High</th>\n",
              "      <th>Low</th>\n",
              "      <th>Open</th>\n",
              "      <th>Close</th>\n",
              "      <th>Volume</th>\n",
              "      <th>Adj Close</th>\n",
              "    </tr>\n",
              "    <tr>\n",
              "      <th>Date</th>\n",
              "      <th></th>\n",
              "      <th></th>\n",
              "      <th></th>\n",
              "      <th></th>\n",
              "      <th></th>\n",
              "      <th></th>\n",
              "    </tr>\n",
              "  </thead>\n",
              "  <tbody>\n",
              "    <tr>\n",
              "      <th>2004-08-19</th>\n",
              "      <td>51.835709</td>\n",
              "      <td>47.800831</td>\n",
              "      <td>49.813290</td>\n",
              "      <td>49.982655</td>\n",
              "      <td>44871361.0</td>\n",
              "      <td>49.982655</td>\n",
              "    </tr>\n",
              "    <tr>\n",
              "      <th>2004-08-20</th>\n",
              "      <td>54.336334</td>\n",
              "      <td>50.062355</td>\n",
              "      <td>50.316402</td>\n",
              "      <td>53.952770</td>\n",
              "      <td>22942874.0</td>\n",
              "      <td>53.952770</td>\n",
              "    </tr>\n",
              "    <tr>\n",
              "      <th>2004-08-23</th>\n",
              "      <td>56.528118</td>\n",
              "      <td>54.321388</td>\n",
              "      <td>55.168217</td>\n",
              "      <td>54.495735</td>\n",
              "      <td>18342897.0</td>\n",
              "      <td>54.495735</td>\n",
              "    </tr>\n",
              "    <tr>\n",
              "      <th>2004-08-24</th>\n",
              "      <td>55.591629</td>\n",
              "      <td>51.591621</td>\n",
              "      <td>55.412300</td>\n",
              "      <td>52.239197</td>\n",
              "      <td>15319808.0</td>\n",
              "      <td>52.239197</td>\n",
              "    </tr>\n",
              "    <tr>\n",
              "      <th>2004-08-25</th>\n",
              "      <td>53.798351</td>\n",
              "      <td>51.746044</td>\n",
              "      <td>52.284027</td>\n",
              "      <td>52.802086</td>\n",
              "      <td>9232276.0</td>\n",
              "      <td>52.802086</td>\n",
              "    </tr>\n",
              "  </tbody>\n",
              "</table>\n",
              "</div>"
            ],
            "text/plain": [
              "                 High        Low       Open      Close      Volume  Adj Close\n",
              "Date                                                                         \n",
              "2004-08-19  51.835709  47.800831  49.813290  49.982655  44871361.0  49.982655\n",
              "2004-08-20  54.336334  50.062355  50.316402  53.952770  22942874.0  53.952770\n",
              "2004-08-23  56.528118  54.321388  55.168217  54.495735  18342897.0  54.495735\n",
              "2004-08-24  55.591629  51.591621  55.412300  52.239197  15319808.0  52.239197\n",
              "2004-08-25  53.798351  51.746044  52.284027  52.802086   9232276.0  52.802086"
            ]
          },
          "metadata": {
            "tags": []
          },
          "execution_count": 6
        }
      ]
    },
    {
      "cell_type": "markdown",
      "metadata": {
        "id": "-90yG-H306XE"
      },
      "source": [
        "For simplicity, we'll use just the closing price:"
      ]
    },
    {
      "cell_type": "markdown",
      "metadata": {
        "id": "ruH9-Ndl1gs8"
      },
      "source": [
        "Once this dataset is downloaded, we can use Pandas to read the CSV output into a ``DataFrame``.\r\n",
        "We will specify that we want the Date as an index, and we want these dates to be automatically parsed:"
      ]
    },
    {
      "cell_type": "code",
      "metadata": {
        "colab": {
          "base_uri": "https://localhost:8080/",
          "height": 234
        },
        "id": "HjsOnhW31oIS",
        "outputId": "3c892f64-772f-4383-8a91-752dd84032fa"
      },
      "source": [
        "#@title Default title text\n",
        "data = pd.read_csv('/content/Fremont_Bridge_Bicycle_Counter.csv', index_col='Date', parse_dates=True)\n",
        "data.head()"
      ],
      "execution_count": null,
      "outputs": [
        {
          "output_type": "execute_result",
          "data": {
            "text/html": [
              "<div>\n",
              "<style scoped>\n",
              "    .dataframe tbody tr th:only-of-type {\n",
              "        vertical-align: middle;\n",
              "    }\n",
              "\n",
              "    .dataframe tbody tr th {\n",
              "        vertical-align: top;\n",
              "    }\n",
              "\n",
              "    .dataframe thead th {\n",
              "        text-align: right;\n",
              "    }\n",
              "</style>\n",
              "<table border=\"1\" class=\"dataframe\">\n",
              "  <thead>\n",
              "    <tr style=\"text-align: right;\">\n",
              "      <th></th>\n",
              "      <th>Fremont Bridge Total</th>\n",
              "      <th>Fremont Bridge East Sidewalk</th>\n",
              "      <th>Fremont Bridge West Sidewalk</th>\n",
              "    </tr>\n",
              "    <tr>\n",
              "      <th>Date</th>\n",
              "      <th></th>\n",
              "      <th></th>\n",
              "      <th></th>\n",
              "    </tr>\n",
              "  </thead>\n",
              "  <tbody>\n",
              "    <tr>\n",
              "      <th>2019-11-01 00:00:00</th>\n",
              "      <td>12.0</td>\n",
              "      <td>7.0</td>\n",
              "      <td>5.0</td>\n",
              "    </tr>\n",
              "    <tr>\n",
              "      <th>2019-11-01 01:00:00</th>\n",
              "      <td>7.0</td>\n",
              "      <td>0.0</td>\n",
              "      <td>7.0</td>\n",
              "    </tr>\n",
              "    <tr>\n",
              "      <th>2019-11-01 02:00:00</th>\n",
              "      <td>1.0</td>\n",
              "      <td>0.0</td>\n",
              "      <td>1.0</td>\n",
              "    </tr>\n",
              "    <tr>\n",
              "      <th>2019-11-01 03:00:00</th>\n",
              "      <td>6.0</td>\n",
              "      <td>6.0</td>\n",
              "      <td>0.0</td>\n",
              "    </tr>\n",
              "    <tr>\n",
              "      <th>2019-11-01 04:00:00</th>\n",
              "      <td>6.0</td>\n",
              "      <td>5.0</td>\n",
              "      <td>1.0</td>\n",
              "    </tr>\n",
              "  </tbody>\n",
              "</table>\n",
              "</div>"
            ],
            "text/plain": [
              "                     Fremont Bridge Total  ...  Fremont Bridge West Sidewalk\n",
              "Date                                       ...                              \n",
              "2019-11-01 00:00:00                  12.0  ...                           5.0\n",
              "2019-11-01 01:00:00                   7.0  ...                           7.0\n",
              "2019-11-01 02:00:00                   1.0  ...                           1.0\n",
              "2019-11-01 03:00:00                   6.0  ...                           0.0\n",
              "2019-11-01 04:00:00                   6.0  ...                           1.0\n",
              "\n",
              "[5 rows x 3 columns]"
            ]
          },
          "metadata": {
            "tags": []
          },
          "execution_count": 7
        }
      ]
    },
    {
      "cell_type": "markdown",
      "metadata": {
        "id": "D1-siZSzQItJ"
      },
      "source": [
        "# **IPython**\r\n",
        "\r\n",
        "> \r\n",
        "\r\n",
        "IPython (Interactive Python) is a command shell for interactive computing in multiple programming languages, originally developed for the Python programming language, that offers introspection, rich media, shell syntax, tab completion, and history. IPython provides the following features:\r\n",
        "\r\n",
        "Interactive shells (terminal and Qt-based).\r\n",
        "A browser-based notebook interface with support for code, text, mathematical expressions, inline plots and other media.\r\n",
        "Support for interactive data visualization and use of GUI toolkits.\r\n",
        "Flexible, embeddable interpreters to load into one's own projects.\r\n",
        "Tools for parallel computing. "
      ]
    }
  ]
}
